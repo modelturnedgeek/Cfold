{
  "nbformat": 4,
  "nbformat_minor": 0,
  "metadata": {
    "colab": {
      "provenance": [],
      "authorship_tag": "ABX9TyONF+W85RWqIzWq3qNzcyI6",
      "include_colab_link": true
    },
    "kernelspec": {
      "name": "python3",
      "display_name": "Python 3"
    },
    "language_info": {
      "name": "python"
    }
  },
  "cells": [
    {
      "cell_type": "markdown",
      "metadata": {
        "id": "view-in-github",
        "colab_type": "text"
      },
      "source": [
        "<a href=\"https://colab.research.google.com/github/patrickbryant1/Cfold/blob/master/Cfold.ipynb\" target=\"_parent\"><img src=\"https://colab.research.google.com/assets/colab-badge.svg\" alt=\"Open In Colab\"/></a>"
      ]
    },
    {
      "cell_type": "code",
      "execution_count": null,
      "metadata": {
        "colab": {
          "base_uri": "https://localhost:8080/"
        },
        "id": "emkM3za_Xi_-",
        "outputId": "50b1dbbb-c1e6-4573-c574-80bfe8e354c0"
      },
      "outputs": [
        {
          "output_type": "stream",
          "name": "stdout",
          "text": [
            "Collecting py3Dmol\n",
            "  Downloading py3Dmol-2.0.3-py2.py3-none-any.whl (12 kB)\n",
            "Installing collected packages: py3Dmol\n",
            "Successfully installed py3Dmol-2.0.3\n"
          ]
        }
      ],
      "source": [
        "!pip install py3Dmol"
      ]
    },
    {
      "cell_type": "code",
      "source": [
        "class Atom(dict):\n",
        "    def __init__(self, line):\n",
        "        self[\"type\"] = line[0:6].strip()\n",
        "        self[\"idx\"] = line[6:11].strip()\n",
        "        self[\"name\"] = line[12:16].strip()\n",
        "        self[\"resname\"] = line[17:20].strip()\n",
        "        self[\"resid\"] = int(int(line[22:26]))\n",
        "        self[\"x\"] = float(line[30:38])\n",
        "        self[\"y\"] = float(line[38:46])\n",
        "        self[\"z\"] = float(line[46:54])\n",
        "        self[\"sym\"] = line[76:78].strip()\n",
        "\n",
        "    def __str__(self):\n",
        "        line = list(\" \" * 80)\n",
        "\n",
        "        line[0:6] = self[\"type\"].ljust(6)\n",
        "        line[6:11] = self[\"idx\"].ljust(5)\n",
        "        line[12:16] = self[\"name\"].ljust(4)\n",
        "        line[17:20] = self[\"resname\"].ljust(3)\n",
        "        line[22:26] = str(self[\"resid\"]).ljust(4)\n",
        "        line[30:38] = str(self[\"x\"]).rjust(8)\n",
        "        line[38:46] = str(self[\"y\"]).rjust(8)\n",
        "        line[46:54] = str(self[\"z\"]).rjust(8)\n",
        "        line[76:78] = self[\"sym\"].rjust(2)\n",
        "        return \"\".join(line) + \"\\n\"\n",
        "  class Molecule(list):\n",
        "    def __init__(self, file):\n",
        "        for line in file:\n",
        "            if \"ATOM\" in line or \"HETATM\" in line:\n",
        "                self.append(Atom(line))\n",
        "\n",
        "    def __str__(self):\n",
        "        outstr = \"\"\n",
        "        for at in self:\n",
        "            outstr += str(at)\n",
        "\n",
        "        return outstr\n"
      ],
      "metadata": {
        "id": "g3lBuQIKX94j"
      },
      "execution_count": null,
      "outputs": []
    },
    {
      "cell_type": "code",
      "source": [
        "import py3Dmol\n",
        "molecules = []\n",
        "for ind,row in df.iterrows():\n",
        "    name = row.id+'.pdb'\n",
        "    print(name)\n",
        "    with open(name) as ifile:\n",
        "        molecules.append(Molecule(ifile))"
      ],
      "metadata": {
        "id": "vLbJULBiYAJm"
      },
      "execution_count": null,
      "outputs": []
    },
    {
      "cell_type": "code",
      "source": [
        "view = py3Dmol.view(width=400, height=300)\n",
        "\n",
        "models = \"\"\n",
        "for i, mol in enumerate(molecules):\n",
        "    models += \"MODEL \" + str(i) + \"\\n\"\n",
        "    models += str(mol)\n",
        "    models += \"ENDMDL\\n\"\n",
        "view.addModelsAsFrames(models)\n",
        "\n",
        "for i, at in enumerate(molecules[0]):\n",
        "    default = {\"cartoon\": {'color': 'grey'}}\n",
        "    view.setStyle({'model': -1, 'serial': i+1}, at.get(\"pymol\", default))\n",
        "\n",
        "view.zoomTo()\n",
        "view.animate({'loop': 'backAndForth'})\n",
        "view.show()"
      ],
      "metadata": {
        "id": "r8Xtx8MVYWAC"
      },
      "execution_count": null,
      "outputs": []
    }
  ]
}