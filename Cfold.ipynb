{
  "nbformat": 4,
  "nbformat_minor": 0,
  "metadata": {
    "colab": {
      "provenance": [],
      "authorship_tag": "ABX9TyPayA1TXhtNdIQaxy9QZIN4",
      "include_colab_link": true
    },
    "kernelspec": {
      "name": "python3",
      "display_name": "Python 3"
    },
    "language_info": {
      "name": "python"
    }
  },
  "cells": [
    {
      "cell_type": "markdown",
      "metadata": {
        "id": "view-in-github",
        "colab_type": "text"
      },
      "source": [
        "<a href=\"https://colab.research.google.com/github/patrickbryant1/Cfold/blob/master/Cfold.ipynb\" target=\"_parent\"><img src=\"https://colab.research.google.com/assets/colab-badge.svg\" alt=\"Open In Colab\"/></a>"
      ]
    },
    {
      "cell_type": "markdown",
      "source": [
        "# Cfold\n",
        "**Structure prediction of alternative protein conformations**\n",
        "\n",
        "\n",
        "This Colab contains a pipeline for predicting alternative conformations of protein structures. \\\n",
        "\\\n",
        "The network, Cfold, is a structure prediction network similar to AlphaFold2 that is trained on a conformational split of the PDB.\n",
        "This has the effect of learning to relate one conformation with one MSA representation. \\\n",
        "\\\n",
        "AlphaFold2 is available under the [Apache License, Version 2.0](http://www.apache.org/licenses/LICENSE-2.0) and so is Cfold, which is a derivative thereof. The Cfold parameters are made available under the terms of the [CC BY 4.0 license](https://creativecommons.org/licenses/by/4.0/legalcode).\n",
        "\\\n",
        "\\\n",
        "**You may not use these files except in compliance with the licenses.**\n",
        "\n",
        "Cfold is available for local installation here: https://github.com/patrickbryant1/Cfold"
      ],
      "metadata": {
        "id": "Z9gCDiagfVqI"
      }
    },
    {
      "cell_type": "code",
      "source": [
        "#@title Install dependencies\n",
        "\n",
        "#@markdown Make sure your runtime is GPU.\n",
        "#@markdown In the menu above do: Runtime --> Change runtime type --> Hardware accelerator (set to GPU)\n",
        "\n",
        "#@markdown **Press play.**\n",
        "\n",
        "#@markdown You will have to restart the runtime after this finishes to include the new packages.\n",
        "#@markdown In the menu above do: Runtime --> Restart runtime\n",
        "\n",
        "#@markdown **After restarting** - reconnect to Google drive.\n",
        "\n",
        "#@markdown This installation is only required the first time this notebook is run.\n",
        "!pip install -U jaxlib==0.3.24+cuda11.cudnn82 -f https://storage.googleapis.com/jax-releases/jax_cuda_releases.html\n",
        "!pip install jax==0.3.24\n",
        "!pip install ml-collections==0.1.1\n",
        "!pip install dm-haiku==0.0.9\n",
        "!pip install pandas==1.3.5\n",
        "!pip install biopython==1.81\n",
        "!pip install chex==0.1.5\n",
        "!pip install dm-tree==0.1.8\n",
        "!pip install immutabledict==2.0.0\n",
        "!pip install numpy==1.21.6\n",
        "!pip install scipy==1.7.3\n",
        "!pip install tensorflow-cpu==2.12.0\n",
        "!pip install tensorflow==2.11.0\n",
        "!pip install optax==0.1.4\n",
        "!pip install py3Dmol"
      ],
      "metadata": {
        "cellView": "form",
        "id": "yXq5O1wXf1ga"
      },
      "execution_count": null,
      "outputs": []
    }
  ]
}