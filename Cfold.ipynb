{
  "nbformat": 4,
  "nbformat_minor": 0,
  "metadata": {
    "colab": {
      "provenance": [],
      "authorship_tag": "ABX9TyPkQfLW5vx2LLSZ51VOfgQ1",
      "include_colab_link": true
    },
    "kernelspec": {
      "name": "python3",
      "display_name": "Python 3"
    },
    "language_info": {
      "name": "python"
    }
  },
  "cells": [
    {
      "cell_type": "markdown",
      "metadata": {
        "id": "view-in-github",
        "colab_type": "text"
      },
      "source": [
        "<a href=\"https://colab.research.google.com/github/patrickbryant1/Cfold/blob/master/Cfold.ipynb\" target=\"_parent\"><img src=\"https://colab.research.google.com/assets/colab-badge.svg\" alt=\"Open In Colab\"/></a>"
      ]
    },
    {
      "cell_type": "markdown",
      "source": [
        "# Cfold\n",
        "**Structure prediction of alternative protein conformations**\n",
        "\n",
        "\n",
        "This Colab contains a pipeline for predicting alternative conformations of protein structures. \\\n",
        "\\\n",
        "The network, Cfold, is a structure prediction network similar to AlphaFold2 that is trained on a conformational split of the PDB.\n",
        "This has the effect of learning to relate one conformation with one MSA representation. \\\n",
        "\\\n",
        "AlphaFold2 is available under the [Apache License, Version 2.0](http://www.apache.org/licenses/LICENSE-2.0) and so is Cfold, which is a derivative thereof. The Cfold parameters are made available under the terms of the [CC BY 4.0 license](https://creativecommons.org/licenses/by/4.0/legalcode).\n",
        "\\\n",
        "\\\n",
        "**You may not use these files except in compliance with the licenses.**\n",
        "\n",
        "Cfold is available for local installation here: https://github.com/patrickbryant1/Cfold"
      ],
      "metadata": {
        "id": "Z9gCDiagfVqI"
      }
    },
    {
      "cell_type": "code",
      "source": [
        "#@title Install dependencies\n",
        "\n",
        "#@markdown Make sure your runtime is GPU.\n",
        "#@markdown In the menu above do: Runtime --> Change runtime type --> Hardware accelerator (set to GPU)\n",
        "\n",
        "#@markdown **Press play.**\n",
        "\n",
        "#@markdown You will have to restart the runtime after this finishes to include the new packages.\n",
        "#@markdown In the menu above do: Runtime --> Restart runtime\n",
        "\n",
        "#@markdown **After restarting** - reconnect to Google drive.\n",
        "\n",
        "#@markdown This installation is only required the first time this notebook is run.\n",
        "!pip install -U jaxlib==0.3.24+cuda11.cudnn82 -f https://storage.googleapis.com/jax-releases/jax_cuda_releases.html\n",
        "!pip install jax==0.3.24\n",
        "!pip install ml-collections==0.1.1\n",
        "!pip install dm-haiku==0.0.9\n",
        "!pip install pandas==1.3.5\n",
        "!pip install biopython==1.81\n",
        "!pip install chex==0.1.5\n",
        "!pip install dm-tree==0.1.8\n",
        "!pip install immutabledict==2.0.0\n",
        "!pip install numpy==1.21.6\n",
        "!pip install scipy==1.7.3\n",
        "!pip install tensorflow-cpu==2.12.0\n",
        "!pip install tensorflow==2.11.0\n",
        "!pip install optax==0.1.4\n",
        "!pip install py3Dmol"
      ],
      "metadata": {
        "cellView": "form",
        "id": "yXq5O1wXf1ga"
      },
      "execution_count": null,
      "outputs": []
    },
    {
      "cell_type": "code",
      "source": [
        "#@title Clone the Cfold github repo\n",
        "import shutil\n",
        "try:\n",
        "  shutil.rmtree('/content/Cfold', ignore_errors=True)\n",
        "except:\n",
        "  print('')\n",
        "\n",
        "!git clone https://github.com/patrickbryant1/Cfold.git"
      ],
      "metadata": {
        "cellView": "form",
        "id": "9QfZ-yPIz9P1"
      },
      "execution_count": null,
      "outputs": []
    },
    {
      "cell_type": "code",
      "source": [
        "#@title #Follow all steps outlined below to run Cfold\n",
        "#@markdown To try the **test case** 4AVA, click the box \"test_case\". Then press the play button to the left.\n",
        "\\\n",
        "#@markdown If you don't want to run the test case, **leave the box blank**.\n",
        "\n",
        "#@markdown #Settings\n",
        "#@markdown - *ID* - name \\\n",
        "#@markdown - **MSA** - currently no MSA search is available directly in the browser, therefore you have to provide your own MSAs in a3m format and upload them here. \\\n",
        "\n",
        "#@markdown Go to https://toolkit.tuebingen.mpg.de/tools/hhblits \\\n",
        "#@markdown Paste your protein sequence in the search field in fasta format --> Submit. \\\n",
        "#@markdown When the search is finished, go to the tab \"Query Template MSA\" and \"Download Full A3M\" \\\n",
        "#@markdown Upload the MSAs here: \\\n",
        "#@markdown Click the folder icon (Files) to the left and select the upload file icon. Upload your files.\n",
        "#@markdown Make sure to name your MSA **\"ID\".a3m**\n",
        "\n",
        "#@markdown - NUM_RECYCLES - how many recycles to use in the network\n",
        "#@markdown - NUM_SAMPLES - how many samples to take per cluster size.\n",
        "\n",
        "import sys, os\n",
        "from google.colab import files\n",
        "import pandas as pd\n",
        "import numpy as np\n",
        "import glob\n",
        "sys.path.insert(0,'/content/Cfold/src')\n",
        "test_case = True #@param {type:\"boolean\"}\n",
        "ID = \"4AVA\" #@param {type:\"string\"}\n",
        "NUM_RECYCLES = 3 # @param {type:\"integer\"}\n",
        "NUM_SAMPLES = 5 # @param {type:\"integer\"}\n",
        "SEQUENCE = \"DGIAELTGARVEDLAGMDVFQGCPAEGLVSLAASVQPLRAAAGQVLLRQGEPAVSFLLISSGSAEVSHVGDDGVAIIARALPGMIVGEIALLRDSPRSATVTTIEPLTGWTGGRGAFATMVHIPGVGERLLRTARQRLAAFVSPIPVRLADGTQLMLRPVLPGDRERTVHGHIQFSGETLYRRFMSPALMHYLSEVDYVDHFVWVVTDGSDPVADARFVRDETDPTVAEIAFTVADAYQGRGIGSFLIGALSVAARVDGVERFAARMLSDNVPMRTIMDRYGAVWQREDVGVITTMIDVPGPGELSLGREMVDQINRVARQVIEAVG\" #@param {type:\"string\"}\n",
        "OUTDIR=\"/content/\"+ID+'/'\n",
        "if not os.path.exists(OUTDIR):\n",
        "  os.mkdir(OUTDIR)\n",
        "\n",
        "#Check that MSA exists\n",
        "if test_case!=True:\n",
        "  #Write fasta\n",
        "  with open('/content/'+ID+'.fasta', 'w') as file:\n",
        "    file.write('>'+ID+'\\n')\n",
        "    file.write(SEQUENCE)\n",
        "  #Check that MSA exists\n",
        "  try:\n",
        "    with open('/content/'+ID+'.a3m', 'r') as file:\n",
        "      for line in file:\n",
        "        if line[0]=='>':\n",
        "          continue\n",
        "        else:\n",
        "          line = line.rstrip()\n",
        "          if line!=SEQUENCE:\n",
        "            print('The sequence provided and the sequence in the MSA do not match!')\n",
        "\n",
        "    MSA='/content/'+ID+'.a3m'\n",
        "    FASTA_FILE='/content/'+ID+'.fasta'\n",
        "  except:\n",
        "    print('No MSA.')\n",
        "    print('Please provide an MSA named '+ID+'.a3m')\n",
        "else:\n",
        "  MSA='/content/Cfold/data/test/'+ID+'.a3m'\n",
        "  FASTA_FILE='/content/Cfold/data/test/'+ID+'.fasta'\n",
        "\n",
        "\n",
        "print('Using MSA:',MSA)\n",
        "print('Using fasta file:',FASTA_FILE)\n",
        "\n",
        "#Get the Cfold parameters (if not downloaded)\n",
        "if not os.path.exists('/content/params10000.npy'):\n",
        "  print('Getting Cfold network parameters.')\n",
        "  !wget https://gitlab.com/patrickbryant1/cfold_data/-/raw/main/params10000.npy"
      ],
      "metadata": {
        "colab": {
          "base_uri": "https://localhost:8080/"
        },
        "cellView": "form",
        "id": "gBe_U2pw0I08",
        "outputId": "69a70b75-7924-4f0a-e486-6fe5006eca94"
      },
      "execution_count": 20,
      "outputs": [
        {
          "output_type": "stream",
          "name": "stdout",
          "text": [
            "Using MSA: /content/Cfold/data/test/4AVA.a3m\n",
            "Using fasta file: /content/Cfold/data/test/4AVA.fasta\n"
          ]
        }
      ]
    },
    {
      "cell_type": "code",
      "source": [
        "#@title Generate the input features for the network and predict.\n",
        "from make_msa_seq_feats_colab import process\n",
        "from predict_with_clusters_colab import predict\n",
        "import pickle\n",
        "\n",
        "#Feats\n",
        "features_output_path = os.path.join(OUTDIR, 'msa_features.pkl')\n",
        "\n",
        "if not os.path.exists(features_output_path):\n",
        "  #Get feats\n",
        "  feature_dict = process(FASTA_FILE, [MSA])\n",
        "\n",
        "  #Write out features as a pickled dictionary.\n",
        "\n",
        "  with open(features_output_path, 'wb') as f:\n",
        "      pickle.dump(feature_dict, f, protocol=4)\n",
        "  print('Saved features to',features_output_path)\n",
        "else:\n",
        "  print('Features exist at',features_output_path)\n",
        "\n",
        "\n",
        "#Predict\n"
      ],
      "metadata": {
        "cellView": "form",
        "id": "kd-Uo-Uo3rJ6"
      },
      "execution_count": null,
      "outputs": []
    }
  ]
}